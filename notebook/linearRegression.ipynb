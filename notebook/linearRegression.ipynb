{
 "cells": [
  {
   "cell_type": "code",
   "execution_count": 128,
   "metadata": {},
   "outputs": [],
   "source": [
    "import numpy as np\n",
    "import matplotlib.pyplot as plt\n",
    "import pandas as pd\n",
    "import os"
   ]
  },
  {
   "cell_type": "code",
   "execution_count": 129,
   "metadata": {},
   "outputs": [
    {
     "name": "stderr",
     "output_type": "stream",
     "text": [
      "/tmp/ipykernel_1078/121282986.py:5: UserWarning: Parsing dates in DD/MM/YYYY format when dayfirst=False (the default) was specified. This may lead to inconsistently parsed dates! Specify a format to ensure consistent parsing.\n",
      "  df = pd.read_json(path_to_json, orient='index')\n"
     ]
    }
   ],
   "source": [
    "# Find ads file and load it into a dataframe\n",
    "category = 'honda-civic'\n",
    "file_path = f'.kijiji_scraper/ads-{category}.json'\n",
    "path_to_json = os.path.join(os.environ['HOME'], file_path)\n",
    "df = pd.read_json(path_to_json, orient='index')\n",
    "df = df[['Price', 'Year', 'Mileage']].dropna()"
   ]
  },
  {
   "cell_type": "code",
   "execution_count": null,
   "metadata": {},
   "outputs": [],
   "source": [
    "# Find line of best fit\n",
    "slope, intercept = np.polyfit(df.Mileage, df.Price, 1)\n",
    "#plot the line\n",
    "plt.scatter(x=df.Mileage, y=df.Price)\n",
    "plt.plot(df.Mileage, slope * df.Mileage + intercept)\n",
    "\n",
    "# try to annotate\n",
    "for row in df.itertuples():\n",
    "    plt.annotate(row.Index, (row.Mileage, row.Price))"
   ]
  },
  {
   "cell_type": "code",
   "execution_count": null,
   "metadata": {},
   "outputs": [],
   "source": [
    "# Using subplot and doing per year\n",
    "years = pd.unique(df.Year) \n",
    "fig, axs = plt.subplots(len(years), figsize=(10, 25))\n",
    "\n",
    "for index, year in enumerate(years):\n",
    "    temp = df[df.Year == year]\n",
    "    slope, intercept = np.polyfit(temp.Mileage, temp.Price, 1)\n",
    "    axs[index].set_title(year)\n",
    "    axs[index].scatter(temp.Mileage, temp.Price)\n",
    "    axs[index].plot(temp.Mileage, slope * temp.Mileage + intercept)"
   ]
  },
  {
   "cell_type": "code",
   "execution_count": 130,
   "metadata": {},
   "outputs": [
    {
     "name": "stdout",
     "output_type": "stream",
     "text": [
      "<bound method DataFrame.to_string of          Slope     Intercept\n",
      "Year                        \n",
      "2005 -0.019098   5857.710328\n",
      "2006 -0.020792  10438.692044\n",
      "2007 -0.038311  15157.599560\n",
      "2008 -0.032489  12802.821962\n",
      "2009 -0.026934  13189.984843\n",
      "2010 -0.063957  19564.564613>\n"
     ]
    }
   ],
   "source": [
    "# groupBy year\n",
    "df = df.set_index('Year')\n",
    "res = df.groupby('Year').apply(lambda x: pd.Series(np.polyfit(x.Mileage, x.Price, 1), index=['Slope', 'Intercept']))\n",
    "df = pd.concat([df, res], axis=1)\n",
    "\n",
    "# these are the slope and intercepts per year\n",
    "print(res.to_string)"
   ]
  }
 ],
 "metadata": {
  "kernelspec": {
   "display_name": "Python 3.8.10 64-bit",
   "language": "python",
   "name": "python3"
  },
  "language_info": {
   "codemirror_mode": {
    "name": "ipython",
    "version": 3
   },
   "file_extension": ".py",
   "mimetype": "text/x-python",
   "name": "python",
   "nbconvert_exporter": "python",
   "pygments_lexer": "ipython3",
   "version": "3.8.10"
  },
  "orig_nbformat": 4,
  "vscode": {
   "interpreter": {
    "hash": "916dbcbb3f70747c44a77c7bcd40155683ae19c65e1c03b4aa3499c5328201f1"
   }
  }
 },
 "nbformat": 4,
 "nbformat_minor": 2
}
